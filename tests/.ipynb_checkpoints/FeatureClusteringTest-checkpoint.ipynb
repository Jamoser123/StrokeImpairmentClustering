{
 "cells": [
  {
   "cell_type": "code",
   "execution_count": null,
   "id": "fa22faaf-0a2f-4cb7-bd30-03821bd250a2",
   "metadata": {},
   "outputs": [],
   "source": []
  }
 ],
 "metadata": {
  "kernelspec": {
   "display_name": "Python 3 (ipykernel)",
   "language": "python",
   "name": "python3"
  },
  "language_info": {
   "name": ""
  }
 },
 "nbformat": 4,
 "nbformat_minor": 5
}
