{
 "cells": [
  {
   "cell_type": "markdown",
   "id": "55e38e63-b6fd-42e0-b4b2-5d1dfc83e1f6",
   "metadata": {},
   "source": [
    "# Test HDF, Slice and Feature Preprocessing"
   ]
  },
  {
   "cell_type": "code",
   "execution_count": 82,
   "id": "01889148-de96-47cf-b52c-bb85553de89e",
   "metadata": {},
   "outputs": [],
   "source": [
    "import sys\n",
    "import os\n",
    "from omegaconf import OmegaConf\n",
    "from hydra import compose, initialize\n",
    "from hydra.core.global_hydra import GlobalHydra\n",
    "\n",
    "# Add the root directory to sys.path\n",
    "sys.path.append(os.path.abspath('..'))\n",
    "GlobalHydra.instance().clear()\n",
    "initialize(version_base=None, config_path=\"../configs\", job_name=\"test_app\")\n",
    "cfg = compose(config_name=\"config\")"
   ]
  },
  {
   "cell_type": "markdown",
   "id": "0fe2bb47-02de-4e7b-bee0-6c4008119b93",
   "metadata": {},
   "source": [
    "## HDF"
   ]
  },
  {
   "cell_type": "markdown",
   "id": "2c9780fe-1277-4156-8410-88c4c652442f",
   "metadata": {},
   "source": [
    "## Slices"
   ]
  },
  {
   "cell_type": "markdown",
   "id": "c3de8922-5010-46b7-818e-7c81232feda4",
   "metadata": {},
   "source": [
    "## Embedding FMA Dataframe"
   ]
  },
  {
   "cell_type": "code",
   "execution_count": 43,
   "id": "99ad0858-a607-4596-b851-b50609ecc62e",
   "metadata": {},
   "outputs": [],
   "source": [
    "import pandas as pd\n",
    "from sklearn.preprocessing import StandardScaler\n",
    "from sklearn.cluster import KMeans\n",
    "from src.clustering.embeddings.funcs import calc_alternative_ratios, getEmbeddingCompdf"
   ]
  },
  {
   "cell_type": "code",
   "execution_count": 60,
   "id": "5eee4d17-3893-432e-b9d5-885391d8bcfa",
   "metadata": {},
   "outputs": [],
   "source": [
    "df_fma = pd.read_csv('/cluster/work/vogtlab/Group/jamoser/classifier_data/fma_clinical.csv')"
   ]
  },
  {
   "cell_type": "code",
   "execution_count": 61,
   "id": "6007e40a-165b-421b-8103-221ede9bd90b",
   "metadata": {
    "collapsed": true,
    "jupyter": {
     "outputs_hidden": true
    },
    "scrolled": true
   },
   "outputs": [
    {
     "name": "stdout",
     "output_type": "stream",
     "text": [
      "<class 'pandas.core.frame.DataFrame'>\n",
      "RangeIndex: 318 entries, 0 to 317\n",
      "Data columns (total 8 columns):\n",
      " #   Column            Non-Null Count  Dtype  \n",
      "---  ------            --------------  -----  \n",
      " 0   Pat_id            318 non-null    object \n",
      " 1   Pat_id_new        318 non-null    float64\n",
      " 2   visit             318 non-null    object \n",
      " 3   fma_ue_aff_total  318 non-null    float64\n",
      " 4   age               318 non-null    int64  \n",
      " 5   dom_aff           318 non-null    float64\n",
      " 6   gender            318 non-null    float64\n",
      " 7   affected_side     318 non-null    object \n",
      "dtypes: float64(4), int64(1), object(3)\n",
      "memory usage: 20.0+ KB\n",
      "None\n"
     ]
    }
   ],
   "source": [
    "print(df_fma.info())"
   ]
  },
  {
   "cell_type": "code",
   "execution_count": 62,
   "id": "546c40a7-9cd3-4076-ad93-0750ffc05317",
   "metadata": {},
   "outputs": [],
   "source": [
    "df_IMU = pd.read_csv('~/Notebooks/Data/data_merged_incl.GAIT_TH2_Recalculated_with_Jerk.csv')"
   ]
  },
  {
   "cell_type": "code",
   "execution_count": 63,
   "id": "7dde8c01-bd36-4c6b-bfa5-0689595c903f",
   "metadata": {
    "collapsed": true,
    "jupyter": {
     "outputs_hidden": true
    },
    "scrolled": true
   },
   "outputs": [
    {
     "name": "stdout",
     "output_type": "stream",
     "text": [
      "<class 'pandas.core.frame.DataFrame'>\n",
      "RangeIndex: 465 entries, 0 to 464\n",
      "Data columns (total 48 columns):\n",
      " #   Column                   Non-Null Count  Dtype  \n",
      "---  ------                   --------------  -----  \n",
      " 0   Unnamed: 0               465 non-null    int64  \n",
      " 1   index                    465 non-null    int64  \n",
      " 2   Pat_id                   465 non-null    object \n",
      " 3   visit                    465 non-null    object \n",
      " 4   day_visit                369 non-null    float64\n",
      " 5   age                      465 non-null    int64  \n",
      " 6   gender                   93 non-null     float64\n",
      " 7   dom_aff                  93 non-null     float64\n",
      " 8   arat_aff_total           273 non-null    float64\n",
      " 9   setup                    343 non-null    object \n",
      " 10  affected_side            343 non-null    object \n",
      " 11  time_gait                343 non-null    float64\n",
      " 12  time_nongait             343 non-null    float64\n",
      " 13  time_lying               343 non-null    float64\n",
      " 14  time_sitting             343 non-null    float64\n",
      " 15  time_standing            343 non-null    float64\n",
      " 16  time_walking             343 non-null    float64\n",
      " 17  time_stairs              343 non-null    float64\n",
      " 18  mean_AC_aff              343 non-null    float64\n",
      " 19  mean_AC_nonaff           343 non-null    float64\n",
      " 20  mean_AC_unilat_aff       343 non-null    float64\n",
      " 21  mean_AC_unilat_nonaff    343 non-null    float64\n",
      " 22  mean_bilat_Magn          343 non-null    float64\n",
      " 23  variation_ratio          343 non-null    float64\n",
      " 24  mean_Magn_ratio          343 non-null    float64\n",
      " 25  mean_bilat_Magn_ratio    343 non-null    float64\n",
      " 26  use_Dur_aff              343 non-null    float64\n",
      " 27  use_Dur_nonaff           343 non-null    float64\n",
      " 28  use_Dur_ratio            343 non-null    float64\n",
      " 29  bilat_use_Dur            343 non-null    float64\n",
      " 30  use_Dur_unilat_aff       343 non-null    float64\n",
      " 31  use_Dur_unilat_nonaff    343 non-null    float64\n",
      " 32  use_Dur_unilat_ratio     343 non-null    float64\n",
      " 33  Median_AC_aff            343 non-null    float64\n",
      " 34  Median_AC_nonaff         343 non-null    float64\n",
      " 35  Median_AC_unilat_aff     343 non-null    float64\n",
      " 36  Median_AC_unilat_nonaff  343 non-null    float64\n",
      " 37  Median_bilat_Magn        343 non-null    float64\n",
      " 38  Median_Magn_ratio        343 non-null    float64\n",
      " 39  use_Dur                  343 non-null    float64\n",
      " 40  sd_Magn_aff              343 non-null    float64\n",
      " 41  sd_Magn_nonAff           343 non-null    float64\n",
      " 42  peak_Magn_aff            343 non-null    float64\n",
      " 43  peak_Magn_nonAff         343 non-null    float64\n",
      " 44  mean_Jerk_aff            340 non-null    float64\n",
      " 45  median_Jerk_aff          340 non-null    float64\n",
      " 46  mean_Jerk_nonaff         340 non-null    float64\n",
      " 47  median_Jerk_nonaff       340 non-null    float64\n",
      "dtypes: float64(41), int64(3), object(4)\n",
      "memory usage: 174.5+ KB\n",
      "None\n"
     ]
    }
   ],
   "source": [
    "print(df_IMU.info())"
   ]
  },
  {
   "cell_type": "code",
   "execution_count": 68,
   "id": "ed0c0ed4-28e3-407d-a679-c0de8dbc3a0c",
   "metadata": {},
   "outputs": [],
   "source": [
    "df_combined = pd.merge(df_fma, df_IMU, on=['Pat_id', 'visit'], how='left')"
   ]
  },
  {
   "cell_type": "code",
   "execution_count": 69,
   "id": "81d5c051-e62c-45ea-a3b2-890d02b8b327",
   "metadata": {
    "collapsed": true,
    "jupyter": {
     "outputs_hidden": true
    },
    "scrolled": true
   },
   "outputs": [
    {
     "name": "stdout",
     "output_type": "stream",
     "text": [
      "<class 'pandas.core.frame.DataFrame'>\n",
      "RangeIndex: 318 entries, 0 to 317\n",
      "Data columns (total 54 columns):\n",
      " #   Column                   Non-Null Count  Dtype  \n",
      "---  ------                   --------------  -----  \n",
      " 0   Pat_id                   318 non-null    object \n",
      " 1   Pat_id_new               318 non-null    float64\n",
      " 2   visit                    318 non-null    object \n",
      " 3   fma_ue_aff_total         318 non-null    float64\n",
      " 4   age_x                    318 non-null    int64  \n",
      " 5   dom_aff_x                318 non-null    float64\n",
      " 6   gender_x                 318 non-null    float64\n",
      " 7   affected_side_x          318 non-null    object \n",
      " 8   Unnamed: 0               318 non-null    int64  \n",
      " 9   index                    318 non-null    int64  \n",
      " 10  day_visit                318 non-null    float64\n",
      " 11  age_y                    318 non-null    int64  \n",
      " 12  gender_y                 92 non-null     float64\n",
      " 13  dom_aff_y                92 non-null     float64\n",
      " 14  arat_aff_total           224 non-null    float64\n",
      " 15  setup                    301 non-null    object \n",
      " 16  affected_side_y          301 non-null    object \n",
      " 17  time_gait                301 non-null    float64\n",
      " 18  time_nongait             301 non-null    float64\n",
      " 19  time_lying               301 non-null    float64\n",
      " 20  time_sitting             301 non-null    float64\n",
      " 21  time_standing            301 non-null    float64\n",
      " 22  time_walking             301 non-null    float64\n",
      " 23  time_stairs              301 non-null    float64\n",
      " 24  mean_AC_aff              301 non-null    float64\n",
      " 25  mean_AC_nonaff           301 non-null    float64\n",
      " 26  mean_AC_unilat_aff       301 non-null    float64\n",
      " 27  mean_AC_unilat_nonaff    301 non-null    float64\n",
      " 28  mean_bilat_Magn          301 non-null    float64\n",
      " 29  variation_ratio          301 non-null    float64\n",
      " 30  mean_Magn_ratio          301 non-null    float64\n",
      " 31  mean_bilat_Magn_ratio    301 non-null    float64\n",
      " 32  use_Dur_aff              301 non-null    float64\n",
      " 33  use_Dur_nonaff           301 non-null    float64\n",
      " 34  use_Dur_ratio            301 non-null    float64\n",
      " 35  bilat_use_Dur            301 non-null    float64\n",
      " 36  use_Dur_unilat_aff       301 non-null    float64\n",
      " 37  use_Dur_unilat_nonaff    301 non-null    float64\n",
      " 38  use_Dur_unilat_ratio     301 non-null    float64\n",
      " 39  Median_AC_aff            301 non-null    float64\n",
      " 40  Median_AC_nonaff         301 non-null    float64\n",
      " 41  Median_AC_unilat_aff     301 non-null    float64\n",
      " 42  Median_AC_unilat_nonaff  301 non-null    float64\n",
      " 43  Median_bilat_Magn        301 non-null    float64\n",
      " 44  Median_Magn_ratio        301 non-null    float64\n",
      " 45  use_Dur                  301 non-null    float64\n",
      " 46  sd_Magn_aff              301 non-null    float64\n",
      " 47  sd_Magn_nonAff           301 non-null    float64\n",
      " 48  peak_Magn_aff            301 non-null    float64\n",
      " 49  peak_Magn_nonAff         301 non-null    float64\n",
      " 50  mean_Jerk_aff            298 non-null    float64\n",
      " 51  median_Jerk_aff          298 non-null    float64\n",
      " 52  mean_Jerk_nonaff         298 non-null    float64\n",
      " 53  median_Jerk_nonaff       298 non-null    float64\n",
      "dtypes: float64(45), int64(4), object(5)\n",
      "memory usage: 134.3+ KB\n",
      "None\n"
     ]
    }
   ],
   "source": [
    "print(df_combined.info())"
   ]
  },
  {
   "cell_type": "code",
   "execution_count": 73,
   "id": "5a0b489e-828a-4e2b-b22b-753db7a5c4c4",
   "metadata": {},
   "outputs": [],
   "source": [
    "#df = categorize_arat_fma(df)\n",
    "\n",
    "df_combined = calc_alternative_ratios(df_combined)"
   ]
  },
  {
   "cell_type": "code",
   "execution_count": 74,
   "id": "ac72355e-2a1f-4cb5-a2f6-9dfd7d53ce44",
   "metadata": {
    "collapsed": true,
    "jupyter": {
     "outputs_hidden": true
    }
   },
   "outputs": [
    {
     "name": "stdout",
     "output_type": "stream",
     "text": [
      "['Pat_id', 'Pat_id_new', 'visit', 'fma_ue_aff_total', 'age_x', 'dom_aff_x', 'gender_x', 'affected_side_x', 'Unnamed: 0', 'index', 'day_visit', 'age_y', 'gender_y', 'dom_aff_y', 'arat_aff_total', 'setup', 'affected_side_y', 'time_gait', 'time_nongait', 'time_lying', 'time_sitting', 'time_standing', 'time_walking', 'time_stairs', 'mean_AC_aff', 'mean_AC_nonaff', 'mean_AC_unilat_aff', 'mean_AC_unilat_nonaff', 'mean_bilat_Magn', 'variation_ratio', 'mean_Magn_ratio', 'mean_bilat_Magn_ratio', 'use_Dur_aff', 'use_Dur_nonaff', 'use_Dur_ratio', 'bilat_use_Dur', 'use_Dur_unilat_aff', 'use_Dur_unilat_nonaff', 'use_Dur_unilat_ratio', 'Median_AC_aff', 'Median_AC_nonaff', 'Median_AC_unilat_aff', 'Median_AC_unilat_nonaff', 'Median_bilat_Magn', 'Median_Magn_ratio', 'use_Dur', 'sd_Magn_aff', 'sd_Magn_nonAff', 'peak_Magn_aff', 'peak_Magn_nonAff', 'mean_Jerk_aff', 'median_Jerk_aff', 'mean_Jerk_nonaff', 'median_Jerk_nonaff', 'use_Dur_ratio_alt', 'use_Dur_unilat_ratio_alt', 'mean_Magn_ratio_alt', 'Median_Magn_ratio_alt', 'unilat_Magn_ratio_alt', 'mean_Jerk_ratio', 'median_Jerk_ratio', 'mean_Jerk_ratio_alt', 'median_Jerk_ratio_alt']\n"
     ]
    }
   ],
   "source": [
    "print(df_combined.columns.tolist())"
   ]
  },
  {
   "cell_type": "code",
   "execution_count": 80,
   "id": "90f7b7d9-7df2-4e4b-b90e-69fc19d97859",
   "metadata": {},
   "outputs": [
    {
     "name": "stdout",
     "output_type": "stream",
     "text": [
      "(318, 1)\n"
     ]
    }
   ],
   "source": [
    "scaler = StandardScaler()\n",
    "scaled_fma = scaler.fit_transform(df_combined[['fma_ue_aff_total']])"
   ]
  },
  {
   "cell_type": "code",
   "execution_count": 88,
   "id": "95f1b57e-30df-46ef-86f1-7755093a4587",
   "metadata": {},
   "outputs": [],
   "source": [
    "# Initialize and fit the KMeans model\n",
    "kmeans = KMeans(n_clusters=cfg.ml.num_categories, random_state=cfg.seed)\n",
    "clusters_fma = kmeans.fit_predict(scaled_fma)"
   ]
  },
  {
   "cell_type": "code",
   "execution_count": 91,
   "id": "5b14b34e-33d5-495b-b0af-8c2e9d0e9889",
   "metadata": {},
   "outputs": [
    {
     "name": "stdout",
     "output_type": "stream",
     "text": [
      "(318,)\n"
     ]
    }
   ],
   "source": [
    "print(clusters_fma.shape)"
   ]
  },
  {
   "cell_type": "code",
   "execution_count": 92,
   "id": "18687cae-2865-4886-8158-9701dae920af",
   "metadata": {},
   "outputs": [],
   "source": [
    "df_combined['cluster_fma'] = clusters_fma"
   ]
  },
  {
   "cell_type": "code",
   "execution_count": 93,
   "id": "d93088c5-8557-4d6a-96f3-c060746dac94",
   "metadata": {
    "collapsed": true,
    "jupyter": {
     "outputs_hidden": true
    }
   },
   "outputs": [
    {
     "name": "stdout",
     "output_type": "stream",
     "text": [
      "0      1\n",
      "1      1\n",
      "2      1\n",
      "3      1\n",
      "4      1\n",
      "      ..\n",
      "313    2\n",
      "314    1\n",
      "315    2\n",
      "316    2\n",
      "317    1\n",
      "Name: cluster_fma, Length: 318, dtype: int32\n"
     ]
    }
   ],
   "source": [
    "print(df_combined['cluster_fma'])"
   ]
  },
  {
   "cell_type": "code",
   "execution_count": 96,
   "id": "68956327-9d0e-4134-af1c-746926fe378e",
   "metadata": {
    "collapsed": true,
    "jupyter": {
     "outputs_hidden": true
    },
    "scrolled": true
   },
   "outputs": [
    {
     "name": "stdout",
     "output_type": "stream",
     "text": [
      "<class 'pandas.core.frame.DataFrame'>\n",
      "RangeIndex: 318 entries, 0 to 317\n",
      "Data columns (total 64 columns):\n",
      " #   Column                    Non-Null Count  Dtype  \n",
      "---  ------                    --------------  -----  \n",
      " 0   Pat_id                    318 non-null    object \n",
      " 1   Pat_id_new                318 non-null    float64\n",
      " 2   visit                     318 non-null    object \n",
      " 3   fma_ue_aff_total          318 non-null    float64\n",
      " 4   age_x                     318 non-null    int64  \n",
      " 5   dom_aff_x                 318 non-null    float64\n",
      " 6   gender_x                  318 non-null    float64\n",
      " 7   affected_side_x           318 non-null    object \n",
      " 8   Unnamed: 0                318 non-null    int64  \n",
      " 9   index                     318 non-null    int64  \n",
      " 10  day_visit                 318 non-null    float64\n",
      " 11  age_y                     318 non-null    int64  \n",
      " 12  gender_y                  92 non-null     float64\n",
      " 13  dom_aff_y                 92 non-null     float64\n",
      " 14  arat_aff_total            224 non-null    float64\n",
      " 15  setup                     301 non-null    object \n",
      " 16  affected_side_y           301 non-null    object \n",
      " 17  time_gait                 301 non-null    float64\n",
      " 18  time_nongait              301 non-null    float64\n",
      " 19  time_lying                301 non-null    float64\n",
      " 20  time_sitting              301 non-null    float64\n",
      " 21  time_standing             301 non-null    float64\n",
      " 22  time_walking              301 non-null    float64\n",
      " 23  time_stairs               301 non-null    float64\n",
      " 24  mean_AC_aff               301 non-null    float64\n",
      " 25  mean_AC_nonaff            301 non-null    float64\n",
      " 26  mean_AC_unilat_aff        301 non-null    float64\n",
      " 27  mean_AC_unilat_nonaff     301 non-null    float64\n",
      " 28  mean_bilat_Magn           301 non-null    float64\n",
      " 29  variation_ratio           301 non-null    float64\n",
      " 30  mean_Magn_ratio           301 non-null    float64\n",
      " 31  mean_bilat_Magn_ratio     301 non-null    float64\n",
      " 32  use_Dur_aff               301 non-null    float64\n",
      " 33  use_Dur_nonaff            301 non-null    float64\n",
      " 34  use_Dur_ratio             301 non-null    float64\n",
      " 35  bilat_use_Dur             301 non-null    float64\n",
      " 36  use_Dur_unilat_aff        301 non-null    float64\n",
      " 37  use_Dur_unilat_nonaff     301 non-null    float64\n",
      " 38  use_Dur_unilat_ratio      301 non-null    float64\n",
      " 39  Median_AC_aff             301 non-null    float64\n",
      " 40  Median_AC_nonaff          301 non-null    float64\n",
      " 41  Median_AC_unilat_aff      301 non-null    float64\n",
      " 42  Median_AC_unilat_nonaff   301 non-null    float64\n",
      " 43  Median_bilat_Magn         301 non-null    float64\n",
      " 44  Median_Magn_ratio         301 non-null    float64\n",
      " 45  use_Dur                   301 non-null    float64\n",
      " 46  sd_Magn_aff               301 non-null    float64\n",
      " 47  sd_Magn_nonAff            301 non-null    float64\n",
      " 48  peak_Magn_aff             301 non-null    float64\n",
      " 49  peak_Magn_nonAff          301 non-null    float64\n",
      " 50  mean_Jerk_aff             298 non-null    float64\n",
      " 51  median_Jerk_aff           298 non-null    float64\n",
      " 52  mean_Jerk_nonaff          298 non-null    float64\n",
      " 53  median_Jerk_nonaff        298 non-null    float64\n",
      " 54  use_Dur_ratio_alt         301 non-null    float64\n",
      " 55  use_Dur_unilat_ratio_alt  301 non-null    float64\n",
      " 56  mean_Magn_ratio_alt       301 non-null    float64\n",
      " 57  Median_Magn_ratio_alt     301 non-null    float64\n",
      " 58  unilat_Magn_ratio_alt     301 non-null    float64\n",
      " 59  mean_Jerk_ratio           298 non-null    float64\n",
      " 60  median_Jerk_ratio         298 non-null    float64\n",
      " 61  mean_Jerk_ratio_alt       298 non-null    float64\n",
      " 62  median_Jerk_ratio_alt     298 non-null    float64\n",
      " 63  cluster_fma               318 non-null    int32  \n",
      "dtypes: float64(54), int32(1), int64(4), object(5)\n",
      "memory usage: 157.9+ KB\n",
      "None\n"
     ]
    }
   ],
   "source": [
    "df = getEmbeddingCompdf(cfg)\n",
    "print(df.info())"
   ]
  },
  {
   "cell_type": "code",
   "execution_count": null,
   "id": "4039ffe7-aa5a-4d94-9655-a607323ec2fd",
   "metadata": {},
   "outputs": [],
   "source": []
  }
 ],
 "metadata": {
  "kernelspec": {
   "display_name": "Python 3 (ipykernel)",
   "language": "python",
   "name": "python3"
  },
  "language_info": {
   "codemirror_mode": {
    "name": "ipython",
    "version": 3
   },
   "file_extension": ".py",
   "mimetype": "text/x-python",
   "name": "python",
   "nbconvert_exporter": "python",
   "pygments_lexer": "ipython3",
   "version": "3.12.2"
  }
 },
 "nbformat": 4,
 "nbformat_minor": 5
}
